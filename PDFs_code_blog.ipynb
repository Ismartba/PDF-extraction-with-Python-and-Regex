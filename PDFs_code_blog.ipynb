{
 "cells": [
  {
   "cell_type": "markdown",
   "metadata": {},
   "source": [
    "# Extract info from PDFs"
   ]
  },
  {
   "cell_type": "markdown",
   "metadata": {},
   "source": [
    "## Import libraries"
   ]
  },
  {
   "cell_type": "code",
   "execution_count": 5,
   "metadata": {},
   "outputs": [],
   "source": [
    "import os\n",
    "import re\n",
    "import pypdf\n",
    "import pandas as pd"
   ]
  },
  {
   "cell_type": "markdown",
   "metadata": {},
   "source": [
    "## View PDF text"
   ]
  },
  {
   "cell_type": "markdown",
   "metadata": {},
   "source": [
    "### View actual PDF"
   ]
  },
  {
   "cell_type": "code",
   "execution_count": 6,
   "metadata": {},
   "outputs": [
    {
     "name": "stdout",
     "output_type": "stream",
     "text": [
      "Page 1:\n",
      "\n",
      "Credit Card information Payment due on: 27 JUL 2020\n",
      "Jim Smith\n",
      "123 Cherry Lane st.\n",
      "956004 Marietta.\n",
      "Atlanta / GA\n",
      " DateDescription Bonus Amount\n",
      "24 JUN 2019 07:12 Shell Marietta - Marie's $0.99 $64.10\n",
      " 25 JUN 2019 17:55 Downson's Market - Atlanta $0.59 $87.22\n",
      " 25 JUN 2019 09:22 KMART - GA $0.80 $106.90\n",
      " 2 JUL 2019 18:12 Florida Shadow Hotel $1.25 $90.00\n",
      " 3 JUL 2019 21:12 Cafe de'Orient - FL $0.02 $12.20\n",
      " 3 JUL 2019 12:54 Yuen Shirts $1.01 $59.10\n",
      " 10 JUL 2019 08:10 Delta Airlines $2.00 $120.00\n",
      " 11 JUL 2019 19:01 Publix - Marietta $0.40 $82.99\n",
      " 13 JUL 2019 08:11 Jiffy Lube $0.10 $40.20\n",
      " 15 JUL 2019 07:40 Starbucks Roswell Road $0.04 $8.10\n",
      " TOTAL AMOUNT $7.20 $670.81Customer Number 12302139\n",
      "Card Number 112321***3\n",
      "Card Limit 1500\n",
      "Pay Date 27 JUL 2020\n",
      "Amount $670.81\n",
      "\n",
      "####################################################################################################\n",
      "\n"
     ]
    }
   ],
   "source": [
    "# Function to print the content of a PDF document\n",
    "def print_pdf_content(pdf_path):\n",
    "    with open(pdf_path, 'rb') as file:\n",
    "        reader = pypdf.PdfReader(file)\n",
    "        for page_num in range(len(reader.pages)):\n",
    "            print(f\"Page {page_num + 1}:\\n\")\n",
    "            page = reader.pages[page_num]\n",
    "            page_text = page.extract_text()\n",
    "            print(page_text)\n",
    "            print(\"\\n\" + \"#\" * 100 + \"\\n\")  # Print a separator between pages\n",
    "\n",
    "\n",
    "# Now call the function to print the content of the document\n",
    "print_pdf_content(r'C:\\Users\\Isaac\\Documents\\1 - Excel Python Environment\\PDFs CC extracts\\PDFs\\creditcard.pdf')"
   ]
  },
  {
   "cell_type": "markdown",
   "metadata": {},
   "source": [
    "## Functions definition"
   ]
  },
  {
   "cell_type": "markdown",
   "metadata": {},
   "source": [
    "### process_pdf"
   ]
  },
  {
   "cell_type": "code",
   "execution_count": 7,
   "metadata": {},
   "outputs": [],
   "source": [
    "import pypdf\n",
    "\n",
    "# Step 1: Initialize and Read PDF\n",
    "def read_pdf(file_path):\n",
    "    print(f\"\\nProcessing file: {file_path}\\n\")\n",
    "    text_content = []\n",
    "    with open(file_path, 'rb') as file:\n",
    "        pdf_reader = pypdf.PdfReader(file)  \n",
    "        for page_num in range(len(pdf_reader.pages)):\n",
    "            page = pdf_reader.pages[page_num]\n",
    "            text_content.append(page.extract_text() if page.extract_text() else '')  # Handle None return\n",
    "    return text_content\n",
    "\n",
    "# Step 2: Concatenate and Preprocess Text\n",
    "def preprocess_text(text_pages):\n",
    "    full_text = ' '.join(text_pages)\n",
    "    # Normalize text (e.g., remove excessive whitespace, lowercase)\n",
    "    full_text = ' '.join(full_text.split()).lower()\n",
    "    return full_text\n",
    "\n",
    "# Main function to process the PDF\n",
    "def process_pdf(file_path):\n",
    "    print(f\"\\n==== Processing PDF: {file_path} ====\\n\")\n",
    "    text_content = read_pdf(file_path)\n",
    "    processed_text = preprocess_text(text_content)\n",
    "    return processed_text"
   ]
  },
  {
   "cell_type": "markdown",
   "metadata": {},
   "source": [
    "### extract_transactions"
   ]
  },
  {
   "cell_type": "code",
   "execution_count": 8,
   "metadata": {},
   "outputs": [],
   "source": [
    "import re\n",
    "import pandas as pd\n",
    "from datetime import datetime\n",
    "\n",
    "def extract_transactions(text):\n",
    "    # Updated pattern to capture new date format and two amounts (cash back and charge amount)\n",
    "    pattern = r'(\\d{2} [a-z]{3} \\d{4}) (\\d{2}:\\d{2}) (.*?) \\$([\\d\\.]+) \\$([\\d\\.]+)'\n",
    "    transactions = re.findall(pattern, text.replace('\\n', ' '), flags=re.DOTALL)\n",
    "    \n",
    "    transactions_data = []\n",
    "    for transaction in transactions:\n",
    "        date, time, description, cash_back, charge_amount = transaction\n",
    "        # Convert date from \"dd MMM yyyy\" format to \"dd/mm/yyyy\"\n",
    "        date = datetime.strptime(date, '%d %b %Y').strftime('%d/%m/%Y')\n",
    "        \n",
    "        # Append two separate records for cash back and charge amount\n",
    "        if float(cash_back) > 0:\n",
    "            transactions_data.append({\n",
    "                'Date': date,\n",
    "                'Description': description.strip(),\n",
    "                'Amount': f'-${cash_back}',\n",
    "                'Type': 'Cash Back'\n",
    "            })\n",
    "        if float(charge_amount) > 0:\n",
    "            transactions_data.append({\n",
    "                'Date': date,\n",
    "                'Description': description.strip(),\n",
    "                'Amount': f'${charge_amount}',\n",
    "                'Type': 'Charge'\n",
    "            })\n",
    "    \n",
    "    transactions_df = pd.DataFrame(transactions_data)\n",
    "    \n",
    "    # Convert 'Amount' to numeric after removing '$' and handling negative for cash back\n",
    "    if not transactions_df.empty:\n",
    "        transactions_df['Amount'] = pd.to_numeric(transactions_df['Amount'].replace(r'[\\$,]', '', regex=True), errors='coerce')\n",
    "    \n",
    "    return transactions_df\n"
   ]
  },
  {
   "cell_type": "markdown",
   "metadata": {},
   "source": [
    "## testing Process PDF & search for patterns"
   ]
  },
  {
   "cell_type": "code",
   "execution_count": 9,
   "metadata": {},
   "outputs": [
    {
     "name": "stdout",
     "output_type": "stream",
     "text": [
      "\n",
      "==== Processing PDF: C:\\Users\\Isaac\\Documents\\1 - Excel Python Environment\\PDFs CC extracts\\PDFs\\creditcard.pdf ====\n",
      "\n",
      "\n",
      "Processing file: C:\\Users\\Isaac\\Documents\\1 - Excel Python Environment\\PDFs CC extracts\\PDFs\\creditcard.pdf\n",
      "\n",
      "Content (snippet):\n",
      "credit card information payment due on: 27 jul 2020 jim smith 123 cherry lane st. 956004 marietta.\n",
      "atlanta / ga datedescription bonus amount 24 jun 2019 07:12 shell marietta - marie's $0.99 $64.10 25\n",
      "jun 2019 17:55 downson's market - atlanta $0.59 $87.22 25 jun 2019 09:22 kmart - ga $0.80 $106.90 2\n",
      "jul 2019 18:12 florida shadow hotel $1.25 $90.00 3 jul 2019 21:12 cafe de'orient - fl $0.02 $12.20 3\n",
      "jul 2019 12:54 yuen shirts $1.01 $59.10 10 jul 2019 08:10 delta airlines $2.00 $120.00 11 jul 2019\n",
      "19:01 publix - marietta $0.40 $82.99 13 jul 2019 08:11 jiffy lube $0.10 $40.20 15 jul 2019 07:40\n",
      "starbucks roswell road $0.04 $8.10 total amount $7.20 $670.81customer number 12302139 card number\n",
      "112321***3 card limit 1500 pay date 27 jul 2020 amount $670.81\n",
      "================================================================================\n",
      "\n"
     ]
    }
   ],
   "source": [
    "processed_text = process_pdf(r'C:\\Users\\Isaac\\Documents\\1 - Excel Python Environment\\PDFs CC extracts\\PDFs\\creditcard.pdf')\n",
    "\n",
    "import textwrap\n",
    "\n",
    "wrapped_content = textwrap.fill(processed_text, width=100)  # Wrap content to 50 characters\n",
    "print(f\"Content (snippet):\\n{wrapped_content}\\n{'=' * 80}\\n\")"
   ]
  },
  {
   "cell_type": "markdown",
   "metadata": {},
   "source": [
    "# Working code"
   ]
  },
  {
   "cell_type": "code",
   "execution_count": 35,
   "metadata": {},
   "outputs": [
    {
     "name": "stdout",
     "output_type": "stream",
     "text": [
      "          Date                 Description  Amount       Type\n",
      "0   24/06/2019    shell marietta - marie's   -0.99  Cash Back\n",
      "1   24/06/2019    shell marietta - marie's   64.10     Charge\n",
      "2   25/06/2019  downson's market - atlanta   -0.59  Cash Back\n",
      "3   25/06/2019  downson's market - atlanta   87.22     Charge\n",
      "4   25/06/2019                  kmart - ga   -0.80  Cash Back\n",
      "5   25/06/2019                  kmart - ga  106.90     Charge\n",
      "6   10/07/2019              delta airlines   -2.00  Cash Back\n",
      "7   10/07/2019              delta airlines  120.00     Charge\n",
      "8   11/07/2019           publix - marietta   -0.40  Cash Back\n",
      "9   11/07/2019           publix - marietta   82.99     Charge\n",
      "10  13/07/2019                  jiffy lube   -0.10  Cash Back\n",
      "11  13/07/2019                  jiffy lube   40.20     Charge\n",
      "12  15/07/2019      starbucks roswell road   -0.04  Cash Back\n",
      "13  15/07/2019      starbucks roswell road    8.10     Charge\n"
     ]
    }
   ],
   "source": [
    "transactions_df = extract_transactions(processed_text)\n",
    "print(transactions_df)"
   ]
  }
 ],
 "metadata": {
  "kernelspec": {
   "display_name": "Python 3 (ipykernel)",
   "language": "python",
   "name": "python3"
  },
  "language_info": {
   "codemirror_mode": {
    "name": "ipython",
    "version": 3
   },
   "file_extension": ".py",
   "mimetype": "text/x-python",
   "name": "python",
   "nbconvert_exporter": "python",
   "pygments_lexer": "ipython3",
   "version": "3.12.2"
  }
 },
 "nbformat": 4,
 "nbformat_minor": 2
}
